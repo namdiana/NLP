{
 "cells": [
  {
   "cell_type": "code",
   "execution_count": 20,
   "metadata": {},
   "outputs": [],
   "source": [
    "import pandas as pd\n",
    "from yargy import Parser, rule, and_, or_, not_\n",
    "from yargy.interpretation import fact, attribute\n",
    "from yargy.predicates import gram, is_capitalized, dictionary, eq\n",
    "import re\n",
    "import pandas as pd\n",
    "from tqdm import tqdm_notebook\n",
    "from gensim import utils"
   ]
  },
  {
   "cell_type": "code",
   "execution_count": 21,
   "metadata": {},
   "outputs": [
    {
     "name": "stdout",
     "output_type": "stream",
     "text": [
      "капельме́йстер, -а, м. дирижер военного духового оркестра.  устар. вообще дирижер. дирижировал артур никиш, молодой и в высшей степени даровитый капельмейстер лейпцигской оперы. а. бородин, письмо ц. а. кюи, 12 июня  1881.\n"
     ]
    }
   ],
   "source": [
    "a = 'капельме́йстер, -а, м. дирижер военного духового оркестра.  устар. вообще дирижер. дирижировал артур никиш, молодой и в высшей степени даровитый капельмейстер лейпцигской оперы. а. бородин, письмо ц. а. кюи, 12 июня  1881.'\n",
    "print(a)\n"
   ]
  },
  {
   "cell_type": "code",
   "execution_count": 22,
   "metadata": {},
   "outputs": [],
   "source": [
    "a = a.replace('й','666666')\n",
    "a = utils.deaccent(a)\n",
    "a = a.replace('666666', 'й')"
   ]
  },
  {
   "cell_type": "code",
   "execution_count": 23,
   "metadata": {},
   "outputs": [
    {
     "name": "stdout",
     "output_type": "stream",
     "text": [
      "капельмейстер, -а, м. дирижер военного духового оркестра.  устар. вообще дирижер. дирижировал артур никиш, молодой и в высшей степени даровитый капельмейстер лейпцигской оперы. а. бородин, письмо ц. а. кюи, 12 июня  1881.\n"
     ]
    }
   ],
   "source": [
    "print(a)"
   ]
  },
  {
   "cell_type": "code",
   "execution_count": null,
   "metadata": {},
   "outputs": [],
   "source": []
  }
 ],
 "metadata": {
  "kernelspec": {
   "display_name": "Python 3",
   "language": "python",
   "name": "python3"
  },
  "language_info": {
   "codemirror_mode": {
    "name": "ipython",
    "version": 3
   },
   "file_extension": ".py",
   "mimetype": "text/x-python",
   "name": "python",
   "nbconvert_exporter": "python",
   "pygments_lexer": "ipython3",
   "version": "3.7.3"
  }
 },
 "nbformat": 4,
 "nbformat_minor": 2
}
